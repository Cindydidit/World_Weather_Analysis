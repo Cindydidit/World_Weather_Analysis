{
 "cells": [
  {
   "cell_type": "code",
   "execution_count": 12,
   "id": "c657f739",
   "metadata": {},
   "outputs": [],
   "source": [
    "# Import the random module.\n",
    "import random\n",
    "import numpy as np\n",
    "import timeit\n",
    "import pandas as pd\n",
    "import matplotlib.pyplot as plt"
   ]
  },
  {
   "cell_type": "code",
   "execution_count": 13,
   "id": "92812e64",
   "metadata": {},
   "outputs": [],
   "source": [
    "# Generate random latitudes, random.randint(-.., ..)random.randrange(-.., .., step=..)\n",
    "# Assign the variable x to 1.\n",
    "x = 1\n",
    "# Initialize latitudes empty list.\n",
    "latitudes = []\n",
    "# create a while loop to generate a random latitude.\n",
    "while x < 11:\n",
    "    random_lat = random.randint(-90, 89) + random.random()\n",
    "    # Add random latitude to latitude list.\n",
    "    latitudes.append(random_lat)\n",
    "    # Add 1 to X for each random latitude added to latitude list.\n",
    "    x += 1"
   ]
  },
  {
   "cell_type": "code",
   "execution_count": 14,
   "id": "c50f174e",
   "metadata": {},
   "outputs": [],
   "source": [
    "# Random options syntax.\n",
    "# random.randint(-.., ..)\n",
    "# random.randrange(-.., .., step=..)\n",
    "# random.random()\n",
    "# random.uniform(-..,..)\n",
    "# np.random.uniform(-10.000, 10.000, size=10)\n",
    "# %timeit tests how long a piece of code or () takes to run."
   ]
  },
  {
   "cell_type": "code",
   "execution_count": 1,
   "id": "2358df0f",
   "metadata": {},
   "outputs": [],
   "source": [
    "# Generate random latitudes.\n",
    "def latitudes(size):\n",
    "    latitudes = []\n",
    "    x = 0\n",
    "    while x < (size):\n",
    "        random_lat = random.randint(-90, 90) + random.random()\n",
    "        latitudes.append(random_lat)\n",
    "        x += 1\n",
    "    return latitudes\n",
    "# Call the function with 1500.\n",
    "#%timeit latitudes(1500)"
   ]
  },
  {
   "cell_type": "code",
   "execution_count": 20,
   "id": "e425deea",
   "metadata": {},
   "outputs": [
    {
     "name": "stdout",
     "output_type": "stream",
     "text": [
      "14.6 µs ± 171 ns per loop (mean ± std. dev. of 7 runs, 100000 loops each)\n"
     ]
    }
   ],
   "source": [
    "# Skill Drill: Refactor the code for the while loop with the %timeit magic command and write a for loop to generate 1,500 latitudes\n",
    "# Generate random longitudes.\n",
    "# timeit \n",
    "%timeit np.random.uniform(-90, 90, size=1500)"
   ]
  }
 ],
 "metadata": {
  "kernelspec": {
   "display_name": "PyhtonData",
   "language": "python",
   "name": "pyhtondata"
  },
  "language_info": {
   "codemirror_mode": {
    "name": "ipython",
    "version": 3
   },
   "file_extension": ".py",
   "mimetype": "text/x-python",
   "name": "python",
   "nbconvert_exporter": "python",
   "pygments_lexer": "ipython3",
   "version": "3.7.13"
  }
 },
 "nbformat": 4,
 "nbformat_minor": 5
}
